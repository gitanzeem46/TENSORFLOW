{
 "cells": [
  {
   "cell_type": "markdown",
   "id": "ec8cfc6d-16de-48e9-8f0e-a286c83275ad",
   "metadata": {},
   "source": [
    "# How to addition/add of Tensors in TensorFlow?"
   ]
  },
  {
   "cell_type": "raw",
   "id": "b2d4b98c-cb43-401b-8a93-24fea4f67b71",
   "metadata": {},
   "source": [
    "tf.add() : Do Element wise Addition, It can be add list, tuple, scaler,\n",
    "tf variable/constant/placeholder/SparceMatrix with eachother and with scaler and with list/tuple\n",
    "\n",
    "Note: + operator can be use to add 2 tensors\n"
   ]
  },
  {
   "cell_type": "code",
   "execution_count": 3,
   "id": "e4b7e821-6010-4c66-86c9-8f7316b46d11",
   "metadata": {},
   "outputs": [],
   "source": [
    "import tensorflow as tf\n",
    "import numpy as np"
   ]
  },
  {
   "cell_type": "markdown",
   "id": "1f180f71-96ef-4e9b-a228-6cc8264f216d",
   "metadata": {},
   "source": [
    "### Scaler Adding"
   ]
  },
  {
   "cell_type": "code",
   "execution_count": null,
   "id": "008cd733-4d9d-4bd8-a80f-6befc39152fb",
   "metadata": {},
   "outputs": [],
   "source": [
    "a = 10\n",
    "b = 20"
   ]
  },
  {
   "cell_type": "code",
   "execution_count": null,
   "id": "c09c1a29-2c71-44fd-9183-a9dcc11e8a19",
   "metadata": {},
   "outputs": [],
   "source": [
    "a+b"
   ]
  },
  {
   "cell_type": "code",
   "execution_count": null,
   "id": "33405f8c-08ee-481a-8f4d-81236b3c802e",
   "metadata": {},
   "outputs": [],
   "source": [
    "tf.add(a, b)"
   ]
  },
  {
   "cell_type": "markdown",
   "id": "0512f16f-1113-4694-811f-5a523da7c82e",
   "metadata": {},
   "source": [
    "### Add 2 List"
   ]
  },
  {
   "cell_type": "code",
   "execution_count": null,
   "id": "5a57a08e-9343-40a5-b223-6275be257617",
   "metadata": {},
   "outputs": [],
   "source": [
    "l1 = [1,2,3,4]\n",
    "l2 = [5,6,7,8]\n",
    "\n",
    "tf.add(l1, l2)"
   ]
  },
  {
   "cell_type": "markdown",
   "id": "ecc16d28-4155-4e6c-b192-e79368bf9291",
   "metadata": {},
   "source": [
    "### Add Two Tuple"
   ]
  },
  {
   "cell_type": "code",
   "execution_count": null,
   "id": "16fab1c6-0fa4-42a3-925e-296f0218ab71",
   "metadata": {},
   "outputs": [],
   "source": [
    "l1 = (1,2,3,4)\n",
    "l2 = (5,6,7,8)\n",
    "\n",
    "tf.add(l1, l2)"
   ]
  },
  {
   "cell_type": "markdown",
   "id": "a91eda52-a8d5-4856-bb49-1754e00ee9f3",
   "metadata": {},
   "source": [
    "### Add List/Tuple with Scaler"
   ]
  },
  {
   "cell_type": "code",
   "execution_count": null,
   "id": "9585aae5-d1c6-47a2-bb42-a9609475b55c",
   "metadata": {},
   "outputs": [],
   "source": [
    "l1 = [1,2,3,4]\n",
    "a = 10\n",
    "tf.add(l1, a)"
   ]
  },
  {
   "cell_type": "markdown",
   "id": "e6646ed8-9467-4886-88b6-5a1713909ce1",
   "metadata": {},
   "source": [
    "### Addition of 2 list/Tuple with Diiferent Size"
   ]
  },
  {
   "cell_type": "code",
   "execution_count": null,
   "id": "55fd686e-8acd-40cd-8027-1459a9dad806",
   "metadata": {},
   "outputs": [],
   "source": [
    "l1 = [1,2,3,4]\n",
    "l2 = [5,6]\n",
    "\n",
    "tf.add(l1, l2)"
   ]
  },
  {
   "cell_type": "markdown",
   "id": "4ee2c8f6-9311-4358-a343-959bcf1724c4",
   "metadata": {},
   "source": [
    "### Add 2 Numpy Array"
   ]
  },
  {
   "cell_type": "code",
   "execution_count": null,
   "id": "36404d11-d656-46ea-9007-098bb9b11cf9",
   "metadata": {},
   "outputs": [],
   "source": [
    "npa1 = np.array ([1,2,3,4,5])\n",
    "npa2 = np.array ( [1,2,3,4,5])\n",
    "tf. add (npa1, npa2)"
   ]
  },
  {
   "cell_type": "markdown",
   "id": "22cb1b79-8166-4f0c-ad2a-51477e73d194",
   "metadata": {},
   "source": [
    "### Add Numpy array with Scaler"
   ]
  },
  {
   "cell_type": "code",
   "execution_count": null,
   "id": "830cd8f6-a021-495c-8b44-42377bd16f7e",
   "metadata": {},
   "outputs": [],
   "source": [
    "npal = np .array ( [1,2,3,4,5])\n",
    "a = 10\n",
    "tf. add (npal, a)"
   ]
  },
  {
   "cell_type": "markdown",
   "id": "2540a15b-fb5b-40ef-9e30-2f44ed759096",
   "metadata": {},
   "source": [
    "### Add Numpy array with single element np array"
   ]
  },
  {
   "cell_type": "code",
   "execution_count": null,
   "id": "af0ece90-ee45-41a3-8641-23491b04d590",
   "metadata": {},
   "outputs": [],
   "source": [
    "npa1 = np.array ([1,2,3,4,5])\n",
    "npa2 = np. array ([[1]])\n",
    "tf. add (npal, npa2)"
   ]
  },
  {
   "cell_type": "markdown",
   "id": "64ca08ca-95cb-43bb-95cb-4a9710f29548",
   "metadata": {},
   "source": [
    "### Add 2 TF Constant Tensor"
   ]
  },
  {
   "cell_type": "code",
   "execution_count": null,
   "id": "aa3b8e9c-028c-45b3-8cf4-188cd4e9f61d",
   "metadata": {},
   "outputs": [],
   "source": [
    "tf_ct1 = tf. constant ([1,2, 3,4])\n",
    "tf_ct2 = tf. constant ([1,2,3,4])\n",
    "tf. add(tf_ct1, tf_ct2)"
   ]
  },
  {
   "cell_type": "markdown",
   "id": "98430263-ec68-4a0b-838e-53bd239af096",
   "metadata": {},
   "source": [
    "### Add TF Constant Tensor with Scaler"
   ]
  },
  {
   "cell_type": "code",
   "execution_count": null,
   "id": "93d14ac3-8ba3-409f-a933-3745e4e7d53e",
   "metadata": {},
   "outputs": [],
   "source": [
    "tf_ct1 = tf. constant ([1,2,3,4])\n",
    "а = 10\n",
    "tf. add (tf_ct1, a)"
   ]
  },
  {
   "cell_type": "markdown",
   "id": "cb3da54a-d073-478a-91c7-8032b2961382",
   "metadata": {},
   "source": [
    "### Add 2 TF Variable"
   ]
  },
  {
   "cell_type": "code",
   "execution_count": null,
   "id": "3ddf408a-d1e4-4f90-a132-b270243e50fa",
   "metadata": {},
   "outputs": [],
   "source": [
    "tf_vr1 = tf. Variable([1,2, 3,4])\n",
    "tf_vr2 = tf. Variable ( [1,2,3,4])\n",
    "tf. add (tf_vr1, tf_vr2)"
   ]
  },
  {
   "cell_type": "markdown",
   "id": "63a258fd-7e51-4422-ba41-bb1251dd0789",
   "metadata": {},
   "source": [
    "### Add TF Variable with Scaler"
   ]
  },
  {
   "cell_type": "code",
   "execution_count": null,
   "id": "8abcecb8-e304-4c98-9b65-1bc19fb01388",
   "metadata": {},
   "outputs": [],
   "source": [
    "tf_vr1 = tf. Variable ([1,2,3,4])\n",
    "а = 10\n",
    "tf. add (tf_vr1, a)"
   ]
  },
  {
   "cell_type": "markdown",
   "id": "e1af934b-21e9-4dc2-9be8-02a1a84f1a2f",
   "metadata": {},
   "source": [
    "### Add 2 Numpy array with different Shape"
   ]
  },
  {
   "cell_type": "code",
   "execution_count": null,
   "id": "6022fc10-817f-457f-8161-902d85e20554",
   "metadata": {},
   "outputs": [],
   "source": [
    "x = np.ones (6). reshape (1, 2, 1, 3)\n",
    "x"
   ]
  },
  {
   "cell_type": "code",
   "execution_count": null,
   "id": "77e6715e-7f3b-488f-9f33-fc1be688417c",
   "metadata": {},
   "outputs": [],
   "source": [
    "y = np.ones (6). reshape (2, 1, 3, 1)\n",
    "y"
   ]
  },
  {
   "cell_type": "code",
   "execution_count": null,
   "id": "2d285a25-b771-423f-98e6-31be60fd76ab",
   "metadata": {},
   "outputs": [],
   "source": [
    "tf.add(x, y)"
   ]
  },
  {
   "cell_type": "code",
   "execution_count": null,
   "id": "2dd70bdc-2866-4e4c-92a4-01414df2d582",
   "metadata": {},
   "outputs": [],
   "source": [
    "tf. add(x, y). shape.as_list()"
   ]
  },
  {
   "cell_type": "markdown",
   "id": "502fe94d-c5b6-4536-ad56-d0f81930e91e",
   "metadata": {},
   "source": [
    "### All Example From ChatGpt"
   ]
  },
  {
   "cell_type": "markdown",
   "id": "56420125-c61d-47d6-aefd-41353dc1fc86",
   "metadata": {},
   "source": [
    "# 1. tf.subtract (Subtraction):"
   ]
  },
  {
   "cell_type": "code",
   "execution_count": 5,
   "id": "3487e071-25b5-4f76-afe7-8a115569ca1c",
   "metadata": {},
   "outputs": [
    {
     "name": "stdout",
     "output_type": "stream",
     "text": [
      "5\n"
     ]
    }
   ],
   "source": [
    "import tensorflow as tf\n",
    "\n",
    "a = tf.constant(8)\n",
    "b = tf.constant(3)\n",
    "\n",
    "# Subtract b from a\n",
    "result = tf.subtract(a, b)\n",
    "print(result.numpy())  # Output: 5"
   ]
  },
  {
   "cell_type": "markdown",
   "id": "004be0f2-9d91-4eee-9798-5cd28ff31e39",
   "metadata": {},
   "source": [
    "# 2. tf.multiply (Multiplication):"
   ]
  },
  {
   "cell_type": "code",
   "execution_count": 9,
   "id": "24629159-e709-4268-8e78-c0ab43993bff",
   "metadata": {},
   "outputs": [
    {
     "name": "stdout",
     "output_type": "stream",
     "text": [
      "20\n"
     ]
    }
   ],
   "source": [
    "a = tf.constant(4)\n",
    "b = tf.constant(5)\n",
    "\n",
    "# Multiply a and b\n",
    "result = tf.multiply(a, b)\n",
    "print(result.numpy())  # Output: 20"
   ]
  },
  {
   "cell_type": "markdown",
   "id": "d99acd1a-99e8-4d34-aba1-ed3df6a436d6",
   "metadata": {},
   "source": [
    "# 3. tf.divide (Division):"
   ]
  },
  {
   "cell_type": "code",
   "execution_count": 12,
   "id": "310491b1-3bce-4144-a46d-8666d61d2488",
   "metadata": {},
   "outputs": [
    {
     "name": "stdout",
     "output_type": "stream",
     "text": [
      "5.0\n"
     ]
    }
   ],
   "source": [
    "a = tf.constant(10.0)\n",
    "b = tf.constant(2.0)\n",
    "\n",
    "# Divide a by b\n",
    "result = tf.divide(a, b)\n",
    "print(result.numpy())  # Output: 5.0"
   ]
  },
  {
   "cell_type": "markdown",
   "id": "ef205fca-4861-4c25-abf9-f3c95903db4d",
   "metadata": {},
   "source": [
    "# 4. tf.sqrt (Square Root):"
   ]
  },
  {
   "cell_type": "code",
   "execution_count": 15,
   "id": "b7b2fc87-ee8f-41c7-912e-9d7103dbaede",
   "metadata": {},
   "outputs": [
    {
     "name": "stdout",
     "output_type": "stream",
     "text": [
      "3.0\n"
     ]
    }
   ],
   "source": [
    "a = tf.constant(9.0)\n",
    "\n",
    "# Find the square root of a\n",
    "result = tf.sqrt(a)\n",
    "print(result.numpy())  # Output: 3.0"
   ]
  },
  {
   "cell_type": "markdown",
   "id": "87bb7514-d7f3-4936-bf0d-29a3e9f50750",
   "metadata": {},
   "source": [
    "# 5. tf.pow (Power):"
   ]
  },
  {
   "cell_type": "code",
   "execution_count": 18,
   "id": "343a2707-c064-43e6-a626-3d9742dd22c8",
   "metadata": {},
   "outputs": [
    {
     "name": "stdout",
     "output_type": "stream",
     "text": [
      "9\n"
     ]
    }
   ],
   "source": [
    "a = tf.constant(3)\n",
    "b = tf.constant(2)\n",
    "\n",
    "# Raise a to the power of b\n",
    "result = tf.pow(a, b)\n",
    "print(result.numpy())  # Output: 9"
   ]
  },
  {
   "cell_type": "markdown",
   "id": "88b47cd4-4ceb-4499-bdd1-0c0db6112777",
   "metadata": {},
   "source": [
    "# 6. tf.max (Maximum):"
   ]
  },
  {
   "cell_type": "code",
   "execution_count": 21,
   "id": "10f2c63e-572f-4557-9b78-f8435afc8f11",
   "metadata": {},
   "outputs": [
    {
     "name": "stdout",
     "output_type": "stream",
     "text": [
      "8\n"
     ]
    }
   ],
   "source": [
    "a = tf.constant(6)\n",
    "b = tf.constant(8)\n",
    "\n",
    "# Find the maximum between a and b\n",
    "result = tf.math.maximum(a, b)\n",
    "print(result.numpy())  # Output: 8"
   ]
  },
  {
   "cell_type": "markdown",
   "id": "ba1b68c1-78fd-4c50-958c-470abab0dead",
   "metadata": {},
   "source": [
    "# 7. tf.min (Minimum):"
   ]
  },
  {
   "cell_type": "code",
   "execution_count": 24,
   "id": "b5225892-9b6c-4c1e-ae09-cdd5571439f3",
   "metadata": {},
   "outputs": [
    {
     "name": "stdout",
     "output_type": "stream",
     "text": [
      "5\n"
     ]
    }
   ],
   "source": [
    "a = tf.constant(7)\n",
    "b = tf.constant(5)\n",
    "\n",
    "# Find the minimum between a and b\n",
    "result = tf.math.minimum(a, b)\n",
    "print(result.numpy())  # Output: 5"
   ]
  },
  {
   "cell_type": "code",
   "execution_count": null,
   "id": "4c419531-92f0-48cb-bdb6-f2ff9211a11f",
   "metadata": {},
   "outputs": [],
   "source": []
  }
 ],
 "metadata": {
  "kernelspec": {
   "display_name": "Python 3 (ipykernel)",
   "language": "python",
   "name": "python3"
  },
  "language_info": {
   "codemirror_mode": {
    "name": "ipython",
    "version": 3
   },
   "file_extension": ".py",
   "mimetype": "text/x-python",
   "name": "python",
   "nbconvert_exporter": "python",
   "pygments_lexer": "ipython3",
   "version": "3.12.2"
  }
 },
 "nbformat": 4,
 "nbformat_minor": 5
}
