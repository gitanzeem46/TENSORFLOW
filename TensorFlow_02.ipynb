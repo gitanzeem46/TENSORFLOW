{
 "cells": [
  {
   "cell_type": "markdown",
   "id": "11b23294-d7f9-418c-95e7-b54c00beb0a4",
   "metadata": {},
   "source": [
    "# TensorFlow :-"
   ]
  },
  {
   "cell_type": "markdown",
   "id": "5c3f2431-50ef-4ecc-bad5-d1ce489da461",
   "metadata": {},
   "source": [
    "# How to Create Constant variable in TensorFlow 2.x"
   ]
  },
  {
   "cell_type": "raw",
   "id": "10d0c95f-256f-4eef-8c5c-4cb4388f2190",
   "metadata": {},
   "source": [
    "tf.constant():\n",
    "\n",
    "Creates a constant tensor from a tensor-like object.\n",
    "Args value dtype\n",
    "shape name\n",
    "A constant value (or list) of output type dtype.\n",
    "The type of the elements of the resulting tensor.\n",
    "Optional dimensions of resulting tensor.I\n",
    "Optional name for the tensor.\n",
    "\n",
    "Returns\n",
    "A Constant Tensor.\n",
    "\n",
    "REF: https://www.tensorflow.org/api_docs/python/tf/constant"
   ]
  },
  {
   "cell_type": "markdown",
   "id": "16e994a7-774a-43a7-b1f0-e222ad459f8d",
   "metadata": {},
   "source": [
    "# Notes"
   ]
  },
  {
   "cell_type": "raw",
   "id": "f372a97a-0ebf-442b-a830-de9eb261a505",
   "metadata": {},
   "source": [
    "1. tf.Session() not in 2.x\n",
    "2. Most of TensorFlow syntax same like Numpy\n",
    "3. Use: While building\n",
    "neural network graph need constant varibale like input data,\n",
    "it never change while training"
   ]
  },
  {
   "cell_type": "markdown",
   "id": "2a8d1c98-dc96-4a75-af98-5aa455f4683e",
   "metadata": {},
   "source": [
    "### import TensorFlow"
   ]
  },
  {
   "cell_type": "code",
   "execution_count": 1,
   "id": "0c3421c1-e724-4d79-8891-ddf09c5582f0",
   "metadata": {},
   "outputs": [],
   "source": [
    "import tensorflow as tf"
   ]
  },
  {
   "cell_type": "markdown",
   "id": "72426f87-f877-405f-b3b0-c26a43aa08e1",
   "metadata": {},
   "source": [
    "### TensorFlow Version"
   ]
  },
  {
   "cell_type": "code",
   "execution_count": 17,
   "id": "6a54274a-f743-4fe4-8d8f-c567174e8000",
   "metadata": {},
   "outputs": [
    {
     "data": {
      "text/plain": [
       "'2.17.0'"
      ]
     },
     "execution_count": 17,
     "metadata": {},
     "output_type": "execute_result"
    }
   ],
   "source": [
    "tf.__version__"
   ]
  },
  {
   "cell_type": "markdown",
   "id": "96bbbc61-0112-445b-b8be-507125752984",
   "metadata": {},
   "source": [
    "### Check GPU availability"
   ]
  },
  {
   "cell_type": "code",
   "execution_count": 10,
   "id": "c2d57c4d-5c7f-4d2b-9bcb-4022417f331f",
   "metadata": {},
   "outputs": [
    {
     "name": "stdout",
     "output_type": "stream",
     "text": [
      "WARNING:tensorflow:From /var/folders/hn/_nb8yt5s35z4zn8wghrqt2bw0000gn/T/ipykernel_2063/337460670.py:1: is_gpu_available (from tensorflow.python.framework.test_util) is deprecated and will be removed in a future version.\n",
      "Instructions for updating:\n",
      "Use `tf.config.list_physical_devices('GPU')` instead.\n"
     ]
    },
    {
     "data": {
      "text/plain": [
       "False"
      ]
     },
     "execution_count": 10,
     "metadata": {},
     "output_type": "execute_result"
    }
   ],
   "source": [
    "tf.test.is_gpu_available()"
   ]
  },
  {
   "cell_type": "markdown",
   "id": "233fee65-0c6e-4b31-8f79-16d8b174fd0a",
   "metadata": {},
   "source": [
    "### Create Integer Constant"
   ]
  },
  {
   "cell_type": "code",
   "execution_count": 12,
   "id": "2612c359-0a99-49fc-bb6c-2e0d341d71b2",
   "metadata": {},
   "outputs": [
    {
     "data": {
      "text/plain": [
       "<tf.Tensor: shape=(), dtype=int32, numpy=10>"
      ]
     },
     "execution_count": 12,
     "metadata": {},
     "output_type": "execute_result"
    }
   ],
   "source": [
    "a = tf.constant(10)\n",
    "a"
   ]
  },
  {
   "cell_type": "markdown",
   "id": "9cf75044-3311-41c2-b82e-2d87ee4c9f9e",
   "metadata": {},
   "source": [
    "### Create Float constant"
   ]
  },
  {
   "cell_type": "code",
   "execution_count": 14,
   "id": "622ecac1-1d62-4ea2-af58-012d86f5e4ec",
   "metadata": {},
   "outputs": [
    {
     "data": {
      "text/plain": [
       "<tf.Tensor: shape=(), dtype=float32, numpy=10.2>"
      ]
     },
     "execution_count": 14,
     "metadata": {},
     "output_type": "execute_result"
    }
   ],
   "source": [
    "b = tf.constant(10.2)\n",
    "b"
   ]
  },
  {
   "cell_type": "markdown",
   "id": "bfb07a36-7e9e-4c6e-9a19-ce408a963747",
   "metadata": {},
   "source": [
    "### create string constant"
   ]
  },
  {
   "cell_type": "code",
   "execution_count": 16,
   "id": "4efee892-0f53-4783-9074-7ec8b83e2195",
   "metadata": {},
   "outputs": [
    {
     "data": {
      "text/plain": [
       "<tf.Tensor: shape=(), dtype=string, numpy=b'my name is tanzeem'>"
      ]
     },
     "execution_count": 16,
     "metadata": {},
     "output_type": "execute_result"
    }
   ],
   "source": [
    "c = tf.constant(\"my name is tanzeem\")\n",
    "c"
   ]
  },
  {
   "cell_type": "markdown",
   "id": "c9622342-ecab-43d1-acdb-360115c96954",
   "metadata": {},
   "source": [
    "### create bool constant"
   ]
  },
  {
   "cell_type": "code",
   "execution_count": 51,
   "id": "e3aecde1-c295-4be3-b509-7b654155a34d",
   "metadata": {},
   "outputs": [
    {
     "data": {
      "text/plain": [
       "<tf.Tensor: shape=(), dtype=bool, numpy=True>"
      ]
     },
     "execution_count": 51,
     "metadata": {},
     "output_type": "execute_result"
    }
   ],
   "source": [
    "d = tf.constant(True)\n",
    "d"
   ]
  },
  {
   "cell_type": "markdown",
   "id": "d217f771-a4ee-470b-8406-a03a7f31df7f",
   "metadata": {},
   "source": [
    "### create constant numpy array / list / tuple"
   ]
  },
  {
   "cell_type": "code",
   "execution_count": 54,
   "id": "e66e2a7d-7049-493a-af87-c9587897d1df",
   "metadata": {},
   "outputs": [],
   "source": [
    "import numpy as np"
   ]
  },
  {
   "cell_type": "code",
   "execution_count": 56,
   "id": "76ef606b-4692-44dc-8757-952c275f1970",
   "metadata": {},
   "outputs": [
    {
     "data": {
      "text/plain": [
       "<tf.Tensor: shape=(4,), dtype=int64, numpy=array([1, 2, 3, 4])>"
      ]
     },
     "execution_count": 56,
     "metadata": {},
     "output_type": "execute_result"
    }
   ],
   "source": [
    "np_array = tf.constant(np.array([1,2,3,4]))\n",
    "np_array"
   ]
  },
  {
   "cell_type": "markdown",
   "id": "ad0ebfb2-ac3d-47e5-8545-593cea57ce92",
   "metadata": {},
   "source": [
    "### create 1D constant"
   ]
  },
  {
   "cell_type": "code",
   "execution_count": 59,
   "id": "9cbae766-86c6-4745-b34b-3df682bfd871",
   "metadata": {},
   "outputs": [
    {
     "data": {
      "text/plain": [
       "<tf.Tensor: shape=(4,), dtype=int32, numpy=array([1, 2, 3, 4], dtype=int32)>"
      ]
     },
     "execution_count": 59,
     "metadata": {},
     "output_type": "execute_result"
    }
   ],
   "source": [
    "t_1d = tf.constant([1,2,3,4])\n",
    "t_1d"
   ]
  },
  {
   "cell_type": "markdown",
   "id": "e9f4de37-bf12-40be-8c5c-cfeb711f196f",
   "metadata": {},
   "source": [
    "### create 2D constant"
   ]
  },
  {
   "cell_type": "code",
   "execution_count": 62,
   "id": "5a4884d7-21a2-4fef-9406-0c57699f989b",
   "metadata": {},
   "outputs": [
    {
     "data": {
      "text/plain": [
       "<tf.Tensor: shape=(2, 2), dtype=int32, numpy=\n",
       "array([[1, 2],\n",
       "       [3, 4]], dtype=int32)>"
      ]
     },
     "execution_count": 62,
     "metadata": {},
     "output_type": "execute_result"
    }
   ],
   "source": [
    "t_2d = tf.constant([[1,2],[3,4]])\n",
    "t_2d"
   ]
  },
  {
   "cell_type": "code",
   "execution_count": 64,
   "id": "74f62c2c-e0f6-4234-a627-538203c4a8d3",
   "metadata": {},
   "outputs": [
    {
     "data": {
      "text/plain": [
       "<tf.Tensor: shape=(2, 2), dtype=int32, numpy=\n",
       "array([[1, 2],\n",
       "       [3, 4]], dtype=int32)>"
      ]
     },
     "execution_count": 64,
     "metadata": {},
     "output_type": "execute_result"
    }
   ],
   "source": [
    "t_2d_1 = tf.constant([1,2,3,4],shape=(2,2),dtype=\"int32\")\n",
    "t_2d_1"
   ]
  },
  {
   "cell_type": "markdown",
   "id": "2715cdd1-de00-41c0-a3d4-a3a49f2c48cf",
   "metadata": {},
   "source": [
    "### Create N-D Constant"
   ]
  },
  {
   "cell_type": "code",
   "execution_count": 67,
   "id": "53bc2b7d-15f7-42f6-bac7-6a77a6d14d6b",
   "metadata": {},
   "outputs": [
    {
     "data": {
      "text/plain": [
       "<tf.Tensor: shape=(1, 3, 2), dtype=int32, numpy=\n",
       "array([[[1, 2],\n",
       "        [2, 3],\n",
       "        [3, 4]]], dtype=int32)>"
      ]
     },
     "execution_count": 67,
     "metadata": {},
     "output_type": "execute_result"
    }
   ],
   "source": [
    "t_3d_1 = tf.constant([[[1,2],[2,3],[3,4]]],dtype=\"int32\")\n",
    "t_3d_1"
   ]
  },
  {
   "cell_type": "markdown",
   "id": "183d8cb4-97a9-4d37-a7e4-63d589970e10",
   "metadata": {},
   "source": [
    "### Type of constant"
   ]
  },
  {
   "cell_type": "code",
   "execution_count": 70,
   "id": "3d462429-1cbc-429b-b8e2-94f88be56f23",
   "metadata": {},
   "outputs": [
    {
     "data": {
      "text/plain": [
       "tensorflow.python.framework.ops.EagerTensor"
      ]
     },
     "execution_count": 70,
     "metadata": {},
     "output_type": "execute_result"
    }
   ],
   "source": [
    "type(t_3d_1)"
   ]
  },
  {
   "cell_type": "markdown",
   "id": "2cb4db05-9183-470f-8d23-be792e40f60a",
   "metadata": {},
   "source": [
    "### Shape of constant"
   ]
  },
  {
   "cell_type": "code",
   "execution_count": 73,
   "id": "991d12ca-68f9-4ed9-8c78-b5d65126eebd",
   "metadata": {},
   "outputs": [
    {
     "data": {
      "text/plain": [
       "TensorShape([1, 3, 2])"
      ]
     },
     "execution_count": 73,
     "metadata": {},
     "output_type": "execute_result"
    }
   ],
   "source": [
    "t_3d_1.shape"
   ]
  },
  {
   "cell_type": "markdown",
   "id": "f4a50042-c247-4987-81e3-b1672d7e4247",
   "metadata": {},
   "source": [
    "### Access constant values"
   ]
  },
  {
   "cell_type": "code",
   "execution_count": 76,
   "id": "20a8419e-ec16-42a6-9120-b2578d8ee1ef",
   "metadata": {},
   "outputs": [
    {
     "data": {
      "text/plain": [
       "array([1, 2, 3, 4], dtype=int32)"
      ]
     },
     "execution_count": 76,
     "metadata": {},
     "output_type": "execute_result"
    }
   ],
   "source": [
    "t_1d.numpy()"
   ]
  },
  {
   "cell_type": "code",
   "execution_count": 78,
   "id": "faae7f52-878a-48f3-97a9-d7cc35586217",
   "metadata": {},
   "outputs": [
    {
     "data": {
      "text/plain": [
       "4"
      ]
     },
     "execution_count": 78,
     "metadata": {},
     "output_type": "execute_result"
    }
   ],
   "source": [
    "t_1d.numpy()[3]"
   ]
  },
  {
   "cell_type": "markdown",
   "id": "c21199b1-14c6-45c8-9b76-c6fa8391dc1f",
   "metadata": {},
   "source": [
    "### Constant dtype"
   ]
  },
  {
   "cell_type": "code",
   "execution_count": 81,
   "id": "260c2ed2-771a-4d01-81ec-acca1bbb90e3",
   "metadata": {},
   "outputs": [
    {
     "data": {
      "text/plain": [
       "tf.int32"
      ]
     },
     "execution_count": 81,
     "metadata": {},
     "output_type": "execute_result"
    }
   ],
   "source": [
    "t_3d_1.dtype"
   ]
  },
  {
   "cell_type": "markdown",
   "id": "1090dabe-0d3b-4bcb-9da4-1dda5687a07e",
   "metadata": {},
   "source": [
    "# How to Create variable in TensorFlow"
   ]
  },
  {
   "cell_type": "raw",
   "id": "cbadf007-bab2-4c50-b0f4-356888d9a362",
   "metadata": {},
   "source": [
    "The Variable() constructor requires an initial value for the variable\n",
    "which can be a Tensor of any type and shape.\n",
    "This initial value defines the type and shape of the variable. \n",
    "After construction, the type and shape of the variable are fixed.\n",
    "The value can be changed using one of the assign methods."
   ]
  },
  {
   "cell_type": "raw",
   "id": "531701d8-77d5-4b06-969b-1d1d57e177e9",
   "metadata": {},
   "source": [
    "tf. Variable( \n",
    "initial _value=None, trainable=None, validate_shape=True, caching_device=None, \n",
    "name=None, variable_def=None, dtype=None, import_scope=None, constraint=None, \n",
    "synchronization=tf.VariableSynchronization.AUTO,\n",
    "aggregation=tf.compat.v1.VariableAggregation.NONE, shape=None\n",
    ")"
   ]
  },
  {
   "cell_type": "code",
   "execution_count": 84,
   "id": "414f7dbd-f57d-4b36-9bf3-ed58ef33b624",
   "metadata": {},
   "outputs": [],
   "source": [
    "import tensorflow as tf"
   ]
  },
  {
   "cell_type": "code",
   "execution_count": 86,
   "id": "c491173c-5aa0-4428-81ab-57ca94780302",
   "metadata": {},
   "outputs": [
    {
     "data": {
      "text/plain": [
       "<tf.Variable 'Variable:0' shape=(4,) dtype=int32, numpy=array([1, 2, 3, 4], dtype=int32)>"
      ]
     },
     "execution_count": 86,
     "metadata": {},
     "output_type": "execute_result"
    }
   ],
   "source": [
    "a = tf.Variable([1,2,3,4])\n",
    "a "
   ]
  },
  {
   "cell_type": "code",
   "execution_count": 88,
   "id": "6787d571-1864-4418-a771-162c9e013cc1",
   "metadata": {},
   "outputs": [
    {
     "data": {
      "text/plain": [
       "'Variable:0'"
      ]
     },
     "execution_count": 88,
     "metadata": {},
     "output_type": "execute_result"
    }
   ],
   "source": [
    "a.name"
   ]
  },
  {
   "cell_type": "code",
   "execution_count": 90,
   "id": "1bc54986-3fc7-4f5b-8b8d-79a13b1b7537",
   "metadata": {},
   "outputs": [
    {
     "data": {
      "text/plain": [
       "TensorShape([4])"
      ]
     },
     "execution_count": 90,
     "metadata": {},
     "output_type": "execute_result"
    }
   ],
   "source": [
    "a.shape"
   ]
  },
  {
   "cell_type": "code",
   "execution_count": 92,
   "id": "e9763105-7a15-49de-8dc2-04a6f8c6a0b3",
   "metadata": {},
   "outputs": [
    {
     "data": {
      "text/plain": [
       "tf.int32"
      ]
     },
     "execution_count": 92,
     "metadata": {},
     "output_type": "execute_result"
    }
   ],
   "source": [
    "a.dtype"
   ]
  },
  {
   "cell_type": "code",
   "execution_count": 94,
   "id": "b4236be5-d3b4-4ce5-8464-4c8dadf9e944",
   "metadata": {},
   "outputs": [
    {
     "data": {
      "text/plain": [
       "array([1, 2, 3, 4], dtype=int32)"
      ]
     },
     "execution_count": 94,
     "metadata": {},
     "output_type": "execute_result"
    }
   ],
   "source": [
    "a.numpy()"
   ]
  },
  {
   "cell_type": "code",
   "execution_count": 96,
   "id": "4c9323fe-8169-4cd8-bb69-cb4e466ad5ef",
   "metadata": {},
   "outputs": [
    {
     "data": {
      "text/plain": [
       "tensorflow.python.ops.resource_variable_ops.ResourceVariable"
      ]
     },
     "execution_count": 96,
     "metadata": {},
     "output_type": "execute_result"
    }
   ],
   "source": [
    "type(a)"
   ]
  },
  {
   "cell_type": "markdown",
   "id": "f5d39d3b-e646-4f55-9936-4af331481825",
   "metadata": {},
   "source": [
    "### Create TF using Integer, Float, String, Bool, Complex Number"
   ]
  },
  {
   "cell_type": "code",
   "execution_count": 99,
   "id": "d725abd7-7760-4932-abc3-f8a55c7776f0",
   "metadata": {},
   "outputs": [
    {
     "data": {
      "text/plain": [
       "<tf.Variable 'Variable:0' shape=(4,) dtype=float32, numpy=array([1.2, 3.3, 2. , 3. ], dtype=float32)>"
      ]
     },
     "execution_count": 99,
     "metadata": {},
     "output_type": "execute_result"
    }
   ],
   "source": [
    "t_f = tf.Variable([1.2,3.3,2,3])\n",
    "t_f"
   ]
  },
  {
   "cell_type": "code",
   "execution_count": 101,
   "id": "12542bd8-1c66-4e86-8dea-619ca4171c14",
   "metadata": {},
   "outputs": [
    {
     "data": {
      "text/plain": [
       "<tf.Variable 'Variable:0' shape=(3,) dtype=string, numpy=array([b'a', b'b', b'c'], dtype=object)>"
      ]
     },
     "execution_count": 101,
     "metadata": {},
     "output_type": "execute_result"
    }
   ],
   "source": [
    "t_s = tf.Variable([\"a\",\"b\",\"c\"])\n",
    "t_s"
   ]
  },
  {
   "cell_type": "code",
   "execution_count": 103,
   "id": "cf067c6d-5a32-4f8c-82f0-375feceedff1",
   "metadata": {},
   "outputs": [
    {
     "data": {
      "text/plain": [
       "<tf.Variable 'Variable:0' shape=() dtype=bool, numpy=True>"
      ]
     },
     "execution_count": 103,
     "metadata": {},
     "output_type": "execute_result"
    }
   ],
   "source": [
    "t_b = tf.Variable(True,False)\n",
    "t_b"
   ]
  },
  {
   "cell_type": "code",
   "execution_count": 105,
   "id": "5e883fbf-d077-4081-aa29-177f0da18c39",
   "metadata": {},
   "outputs": [
    {
     "data": {
      "text/plain": [
       "<tf.Variable 'Variable:0' shape=(1,) dtype=complex128, numpy=array([4.+3.j])>"
      ]
     },
     "execution_count": 105,
     "metadata": {},
     "output_type": "execute_result"
    }
   ],
   "source": [
    "t_c = tf.Variable([4+3j])\n",
    "t_c"
   ]
  },
  {
   "cell_type": "markdown",
   "id": "7923a7e9-554b-4902-b508-7dd6de6913dd",
   "metadata": {},
   "source": [
    "### Create TF from Constant TensorFlow Variable"
   ]
  },
  {
   "cell_type": "code",
   "execution_count": 108,
   "id": "6faf1932-d778-4aeb-8c6c-925e25a0551c",
   "metadata": {},
   "outputs": [
    {
     "data": {
      "text/plain": [
       "<tf.Tensor: shape=(4,), dtype=int32, numpy=array([1, 2, 3, 4], dtype=int32)>"
      ]
     },
     "execution_count": 108,
     "metadata": {},
     "output_type": "execute_result"
    }
   ],
   "source": [
    "t_con = tf.constant([1,2,3,4])\n",
    "t_con"
   ]
  },
  {
   "cell_type": "code",
   "execution_count": 110,
   "id": "4d76c88a-d33b-4b36-8171-d6a26be13ccb",
   "metadata": {},
   "outputs": [
    {
     "data": {
      "text/plain": [
       "<tf.Variable 'Variable:0' shape=(4,) dtype=int32, numpy=array([1, 2, 3, 4], dtype=int32)>"
      ]
     },
     "execution_count": 110,
     "metadata": {},
     "output_type": "execute_result"
    }
   ],
   "source": [
    "tf.Variable(t_con)"
   ]
  },
  {
   "cell_type": "markdown",
   "id": "878c767e-c75f-4f99-b3dd-baf790f54e6b",
   "metadata": {},
   "source": [
    "### Create TF Variable with different shape"
   ]
  },
  {
   "cell_type": "code",
   "execution_count": 113,
   "id": "7cea2b23-d17d-4cc3-a950-69e8104edfef",
   "metadata": {},
   "outputs": [
    {
     "data": {
      "text/plain": [
       "<tf.Variable 'Variable:0' shape=(2, 2) dtype=int32, numpy=\n",
       "array([[2, 3],\n",
       "       [4, 5]], dtype=int32)>"
      ]
     },
     "execution_count": 113,
     "metadata": {},
     "output_type": "execute_result"
    }
   ],
   "source": [
    "t_2d = tf.Variable([[2,3],[4,5]])\n",
    "t_2d"
   ]
  },
  {
   "cell_type": "code",
   "execution_count": 115,
   "id": "1867d925-3b40-4336-a2ad-f49dd8566223",
   "metadata": {},
   "outputs": [
    {
     "data": {
      "text/plain": [
       "<tf.Variable 'Variable:0' shape=(2, 2) dtype=float32, numpy=\n",
       "array([[2., 3.],\n",
       "       [4., 5.]], dtype=float32)>"
      ]
     },
     "execution_count": 115,
     "metadata": {},
     "output_type": "execute_result"
    }
   ],
   "source": [
    "t_2d = tf.Variable([[2,3],[4,5]],shap=(2,2),dtype='float32')\n",
    "t_2d"
   ]
  },
  {
   "cell_type": "code",
   "execution_count": 117,
   "id": "c04ca88d-6030-41b3-bee3-68816e5ac310",
   "metadata": {},
   "outputs": [
    {
     "data": {
      "text/plain": [
       "<tf.Variable 'Variable:0' shape=(4,) dtype=int32, numpy=array([1, 2, 3, 4], dtype=int32)>"
      ]
     },
     "execution_count": 117,
     "metadata": {},
     "output_type": "execute_result"
    }
   ],
   "source": [
    "a"
   ]
  },
  {
   "cell_type": "code",
   "execution_count": 119,
   "id": "70ef657c-a1c8-4889-a10a-9e82e317479c",
   "metadata": {},
   "outputs": [
    {
     "data": {
      "text/plain": [
       "<tf.Tensor: shape=(2, 2), dtype=int32, numpy=\n",
       "array([[1, 2],\n",
       "       [3, 4]], dtype=int32)>"
      ]
     },
     "execution_count": 119,
     "metadata": {},
     "output_type": "execute_result"
    }
   ],
   "source": [
    "tf.reshape(a ,(2,2))"
   ]
  },
  {
   "cell_type": "markdown",
   "id": "8c3e2d1d-a7a6-4b41-8994-05ef10759288",
   "metadata": {},
   "source": [
    "### Get Index of highest value"
   ]
  },
  {
   "cell_type": "code",
   "execution_count": 122,
   "id": "dc77e384-a475-424a-9ceb-2dac2e425452",
   "metadata": {},
   "outputs": [
    {
     "data": {
      "text/plain": [
       "<tf.Tensor: shape=(2, 2), dtype=int32, numpy=\n",
       "array([[1, 2],\n",
       "       [3, 4]], dtype=int32)>"
      ]
     },
     "execution_count": 122,
     "metadata": {},
     "output_type": "execute_result"
    }
   ],
   "source": [
    "t_2d_1"
   ]
  },
  {
   "cell_type": "code",
   "execution_count": 124,
   "id": "1478ea3e-5956-42d7-b5b2-5897724bc470",
   "metadata": {},
   "outputs": [
    {
     "data": {
      "text/plain": [
       "<tf.Tensor: shape=(2,), dtype=int64, numpy=array([1, 1])>"
      ]
     },
     "execution_count": 124,
     "metadata": {},
     "output_type": "execute_result"
    }
   ],
   "source": [
    "tf.argmax(t_2d_1)"
   ]
  },
  {
   "cell_type": "code",
   "execution_count": 126,
   "id": "09c645ac-e156-4e4a-8ae5-6b64e0cdc8c1",
   "metadata": {},
   "outputs": [
    {
     "data": {
      "text/plain": [
       "array([1, 1])"
      ]
     },
     "execution_count": 126,
     "metadata": {},
     "output_type": "execute_result"
    }
   ],
   "source": [
    "tf.argmax(t_2d_1).numpy()"
   ]
  },
  {
   "cell_type": "markdown",
   "id": "1d9c1789-c77b-4949-8de3-b4178e28bd5a",
   "metadata": {},
   "source": [
    "### Viewed/convert as a tensor"
   ]
  },
  {
   "cell_type": "code",
   "execution_count": 129,
   "id": "692cd2ae-e320-4138-9e14-2fafee72ff8d",
   "metadata": {},
   "outputs": [
    {
     "data": {
      "text/plain": [
       "<tf.Variable 'Variable:0' shape=(4,) dtype=int32, numpy=array([1, 2, 3, 4], dtype=int32)>"
      ]
     },
     "execution_count": 129,
     "metadata": {},
     "output_type": "execute_result"
    }
   ],
   "source": [
    "a"
   ]
  },
  {
   "cell_type": "code",
   "execution_count": 131,
   "id": "ea40becb-ec78-46dc-bbfd-be773a1181ea",
   "metadata": {},
   "outputs": [
    {
     "data": {
      "text/plain": [
       "<tf.Tensor: shape=(4,), dtype=int32, numpy=array([1, 2, 3, 4], dtype=int32)>"
      ]
     },
     "execution_count": 131,
     "metadata": {},
     "output_type": "execute_result"
    }
   ],
   "source": [
    "tf.convert_to_tensor(a)"
   ]
  },
  {
   "cell_type": "code",
   "execution_count": 133,
   "id": "26fc09dd-0a59-4800-996c-6e1a4cf7d692",
   "metadata": {},
   "outputs": [
    {
     "data": {
      "text/plain": [
       "<tf.Tensor: shape=(2, 2), dtype=int32, numpy=\n",
       "array([[1, 2],\n",
       "       [3, 4]], dtype=int32)>"
      ]
     },
     "execution_count": 133,
     "metadata": {},
     "output_type": "execute_result"
    }
   ],
   "source": [
    "tf.convert_to_tensor(t_2d_1)"
   ]
  },
  {
   "cell_type": "markdown",
   "id": "d146f2f6-fd20-4a7d-98b8-98e3e1341a68",
   "metadata": {},
   "source": [
    "### Change/Assign new value to tensor"
   ]
  },
  {
   "cell_type": "code",
   "execution_count": 136,
   "id": "049a3d4c-c73b-40c6-88b2-a608d9d7a80b",
   "metadata": {},
   "outputs": [
    {
     "data": {
      "text/plain": [
       "<tf.Variable 'Variable:0' shape=(4,) dtype=int32, numpy=array([1, 2, 3, 4], dtype=int32)>"
      ]
     },
     "execution_count": 136,
     "metadata": {},
     "output_type": "execute_result"
    }
   ],
   "source": [
    "a"
   ]
  },
  {
   "cell_type": "code",
   "execution_count": 138,
   "id": "0ff74e84-dd13-4d0a-bd40-b5a5a24bdd93",
   "metadata": {},
   "outputs": [
    {
     "data": {
      "text/plain": [
       "<tf.Variable 'UnreadVariable' shape=(4,) dtype=int32, numpy=array([4, 5, 6, 7], dtype=int32)>"
      ]
     },
     "execution_count": 138,
     "metadata": {},
     "output_type": "execute_result"
    }
   ],
   "source": [
    "a.assign([4,5,6,7])"
   ]
  },
  {
   "cell_type": "code",
   "execution_count": 140,
   "id": "cf1c5242-6812-4f8c-be50-a08c6765e246",
   "metadata": {},
   "outputs": [
    {
     "data": {
      "text/plain": [
       "<tf.Variable 'Variable:0' shape=(4,) dtype=int32, numpy=array([4, 5, 6, 7], dtype=int32)>"
      ]
     },
     "execution_count": 140,
     "metadata": {},
     "output_type": "execute_result"
    }
   ],
   "source": [
    "a"
   ]
  },
  {
   "cell_type": "markdown",
   "id": "7e5166c7-10aa-41e7-8e68-71d75cfaeb2b",
   "metadata": {},
   "source": [
    "### Assign Variable with anothe memory"
   ]
  },
  {
   "cell_type": "code",
   "execution_count": 143,
   "id": "03028f96-7b9d-461e-9d6b-bbb95e0c473b",
   "metadata": {},
   "outputs": [
    {
     "data": {
      "text/plain": [
       "<tf.Variable 'UnreadVariable' shape=(4,) dtype=int32, numpy=array([ 8, 10, 12, 14], dtype=int32)>"
      ]
     },
     "execution_count": 143,
     "metadata": {},
     "output_type": "execute_result"
    }
   ],
   "source": [
    "a.assign_add([4,5,6,7])"
   ]
  },
  {
   "cell_type": "markdown",
   "id": "1a868169-6b2b-4726-b3f4-27896fd4663e",
   "metadata": {},
   "source": [
    "# How to Create Placeholder in TensorFlow 2"
   ]
  },
  {
   "cell_type": "markdown",
   "id": "3764786b-35b4-4c73-9ecc-08064da2eeb3",
   "metadata": {},
   "source": [
    "## How Migrate your TensorFlow 1 code to TensorFlow2"
   ]
  },
  {
   "cell_type": "markdown",
   "id": "addcc2dd-612b-43da-968f-6de1409f510d",
   "metadata": {},
   "source": [
    "# Placeholder"
   ]
  },
  {
   "cell_type": "raw",
   "id": "02f90ea7-0f65-4cab-bf58-18e860c6e474",
   "metadata": {},
   "source": [
    "A placeholder is simply a variable that we will assign data to at a later date. It allows us to create our operations and build our computation graph, without needing the data"
   ]
  },
  {
   "cell_type": "raw",
   "id": "baadec7f-9c2b-4c74-86a3-28adf0c49520",
   "metadata": {},
   "source": [
    "Syntax: tf.compat.v1.placeholderdtype, shape=None, name=None)"
   ]
  },
  {
   "cell_type": "code",
   "execution_count": 148,
   "id": "9e083021-881f-44b8-a1f3-a873c51ffe5f",
   "metadata": {},
   "outputs": [],
   "source": [
    "import tensorflow as tf"
   ]
  },
  {
   "cell_type": "code",
   "execution_count": 150,
   "id": "b85f06dd-b221-443a-9be4-75b7e017318b",
   "metadata": {},
   "outputs": [],
   "source": [
    "# placeholders are not executable immediately so we need to disable eager exicution in TF 2 not in 1"
   ]
  },
  {
   "cell_type": "code",
   "execution_count": 152,
   "id": "53047b92-357a-4849-b25c-025bb4dc9500",
   "metadata": {},
   "outputs": [],
   "source": [
    "tf.compat.v1.disable_eager_execution()"
   ]
  },
  {
   "cell_type": "markdown",
   "id": "e85e2642-ae77-4b44-98f0-611686558760",
   "metadata": {},
   "source": [
    "# Create Placeholder"
   ]
  },
  {
   "cell_type": "code",
   "execution_count": 155,
   "id": "38d7f602-17ad-4cc7-9db1-09b73f26f7e2",
   "metadata": {},
   "outputs": [
    {
     "data": {
      "text/plain": [
       "<tf.Tensor 'Placeholder:0' shape=(400, 400) dtype=float32>"
      ]
     },
     "execution_count": 155,
     "metadata": {},
     "output_type": "execute_result"
    }
   ],
   "source": [
    "a = tf.compat.v1.placeholder(dtype=tf.float32,shape=(400,400))\n",
    "a"
   ]
  },
  {
   "cell_type": "code",
   "execution_count": 157,
   "id": "d3b4a37a-3878-45e0-a59d-1bd96a3a2761",
   "metadata": {},
   "outputs": [
    {
     "data": {
      "text/plain": [
       "tf.float32"
      ]
     },
     "execution_count": 157,
     "metadata": {},
     "output_type": "execute_result"
    }
   ],
   "source": [
    "a.dtype"
   ]
  },
  {
   "cell_type": "code",
   "execution_count": 159,
   "id": "af249719-7ef9-4028-9234-7de3f3979fdd",
   "metadata": {},
   "outputs": [
    {
     "data": {
      "text/plain": [
       "TensorShape([400, 400])"
      ]
     },
     "execution_count": 159,
     "metadata": {},
     "output_type": "execute_result"
    }
   ],
   "source": [
    "a.shape"
   ]
  },
  {
   "cell_type": "code",
   "execution_count": 161,
   "id": "03cc2fae-d4b8-45b1-a480-e6b8e30ec7e3",
   "metadata": {},
   "outputs": [
    {
     "data": {
      "text/plain": [
       "'Placeholder:0'"
      ]
     },
     "execution_count": 161,
     "metadata": {},
     "output_type": "execute_result"
    }
   ],
   "source": [
    "a.name"
   ]
  },
  {
   "cell_type": "code",
   "execution_count": 163,
   "id": "432b4ae2-4d5f-4746-af72-9db66e6bdfb6",
   "metadata": {},
   "outputs": [],
   "source": [
    "b = tf.compat.v1.placeholder(dtype=tf.float32,shape=(400,400))"
   ]
  },
  {
   "cell_type": "markdown",
   "id": "1e1a6ac3-2a9b-4272-b50a-63220b43c427",
   "metadata": {},
   "source": [
    "### Perform mathematical operation with placeholder"
   ]
  },
  {
   "cell_type": "code",
   "execution_count": 166,
   "id": "8c3c0391-2709-4594-a6df-77b528687814",
   "metadata": {},
   "outputs": [
    {
     "data": {
      "text/plain": [
       "<tf.Tensor 'Add:0' shape=(400, 400) dtype=float32>"
      ]
     },
     "execution_count": 166,
     "metadata": {},
     "output_type": "execute_result"
    }
   ],
   "source": [
    "c = tf.add(a, b)\n",
    "c"
   ]
  },
  {
   "cell_type": "markdown",
   "id": "d66b7278-843c-4e31-8c70-1cf63be116e9",
   "metadata": {},
   "source": [
    "### Create Numpy Array"
   ]
  },
  {
   "cell_type": "code",
   "execution_count": 169,
   "id": "a6e66275-e5e4-41cc-8ec0-3984efe7aaf4",
   "metadata": {},
   "outputs": [],
   "source": [
    "import numpy as np"
   ]
  },
  {
   "cell_type": "code",
   "execution_count": 171,
   "id": "34da1323-63e3-4f7d-a303-8f40b76c53f0",
   "metadata": {},
   "outputs": [
    {
     "data": {
      "text/plain": [
       "array([[1., 1., 1., ..., 1., 1., 1.],\n",
       "       [1., 1., 1., ..., 1., 1., 1.],\n",
       "       [1., 1., 1., ..., 1., 1., 1.],\n",
       "       ...,\n",
       "       [1., 1., 1., ..., 1., 1., 1.],\n",
       "       [1., 1., 1., ..., 1., 1., 1.],\n",
       "       [1., 1., 1., ..., 1., 1., 1.]], dtype=float32)"
      ]
     },
     "execution_count": 171,
     "metadata": {},
     "output_type": "execute_result"
    }
   ],
   "source": [
    "ones_array = np.ones ((400,400), np.float32)\n",
    "ones_array"
   ]
  },
  {
   "cell_type": "markdown",
   "id": "4f2fe00b-9e4d-48da-88c1-85a524af6317",
   "metadata": {},
   "source": [
    "### Exicute Tensorflow Placeholder using session"
   ]
  },
  {
   "cell_type": "code",
   "execution_count": 174,
   "id": "da0f613c-bee7-4ce6-bbb0-8dca643da59d",
   "metadata": {},
   "outputs": [
    {
     "name": "stderr",
     "output_type": "stream",
     "text": [
      "2024-10-06 16:14:31.783545: I tensorflow/compiler/mlir/mlir_graph_optimization_pass.cc:388] MLIR V1 optimization pass is not enabled\n"
     ]
    }
   ],
   "source": [
    "with tf.compat.v1.Session() as sess:\n",
    "    d=sess.run(c,feed_dict={a:ones_array,b:ones_array})"
   ]
  },
  {
   "cell_type": "code",
   "execution_count": 176,
   "id": "8db79153-9bdb-4fab-b964-fda9d06a2252",
   "metadata": {},
   "outputs": [
    {
     "data": {
      "text/plain": [
       "array([[2., 2., 2., ..., 2., 2., 2.],\n",
       "       [2., 2., 2., ..., 2., 2., 2.],\n",
       "       [2., 2., 2., ..., 2., 2., 2.],\n",
       "       ...,\n",
       "       [2., 2., 2., ..., 2., 2., 2.],\n",
       "       [2., 2., 2., ..., 2., 2., 2.],\n",
       "       [2., 2., 2., ..., 2., 2., 2.]], dtype=float32)"
      ]
     },
     "execution_count": 176,
     "metadata": {},
     "output_type": "execute_result"
    }
   ],
   "source": [
    "d"
   ]
  },
  {
   "cell_type": "code",
   "execution_count": 178,
   "id": "ebb44039-c946-42e3-80a8-bccb4af59298",
   "metadata": {},
   "outputs": [
    {
     "data": {
      "text/plain": [
       "numpy.ndarray"
      ]
     },
     "execution_count": 178,
     "metadata": {},
     "output_type": "execute_result"
    }
   ],
   "source": [
    "type(d)"
   ]
  },
  {
   "cell_type": "markdown",
   "id": "dc47ac8f-42cd-4d88-8c14-dadb16021cef",
   "metadata": {},
   "source": [
    "# How to Create Sparse Tensor in TensorFlow 2X"
   ]
  },
  {
   "cell_type": "markdown",
   "id": "ce1872d0-4205-47cb-a4c8-bea759930431",
   "metadata": {},
   "source": [
    "### What is Sparse Tensor?"
   ]
  },
  {
   "cell_type": "raw",
   "id": "9f13b616-9d18-4854-ac15-be9f1315807f",
   "metadata": {},
   "source": [
    "*Tensor that contain mostly zero values are called sparse tensor.*\n",
    "When working with tensors that contain a lot of zero values, it is important to store them in a space-and time-efficient manner.\n",
    "Sparse tensors enable efficient storage and processing of tensors that contain a lot of zero values.\n",
    "Sparse tensors are used extensively in encoding schemes like TF-IDF as part of data pre-processing in\n",
    "NLP applications and for pre-processing images with a lot of dark pixels in computer vision applications.\n",
    "Currently, sparse tensors in TensorFlow are encoded using the coordinate list (COO) format.\n",
    "The COO encoding for sparse tensors is comprised of:\n",
    "values: A 1D tensor with shape [N] containing all nonzero values.\n",
    "indices: A 2D tensor with shape [N, rank], containing the indices of the nonzero values. dense_shape: A ID tensor with shape [rank], specifying the shape of the tensor."
   ]
  },
  {
   "cell_type": "markdown",
   "id": "48ec8a91-6a5b-4f83-aee4-56c95f69f428",
   "metadata": {},
   "source": [
    " #### Syntax of Sparse Tensor"
   ]
  },
  {
   "cell_type": "raw",
   "id": "0dd0bdc6-2021-4746-90ae-01c3162dbca4",
   "metadata": {},
   "source": [
    "tf. sparse. SparseTensor (indices, values, dense_shape)"
   ]
  },
  {
   "cell_type": "code",
   "execution_count": 183,
   "id": "83e7fe6a-d95d-495e-b152-1444367eeeec",
   "metadata": {},
   "outputs": [],
   "source": [
    "import tensorflow as tf"
   ]
  },
  {
   "cell_type": "markdown",
   "id": "d0b56fb8-2a7a-41bd-b486-7c05ca29c690",
   "metadata": {},
   "source": [
    "### Create TensorFlow Sparse Tensor"
   ]
  },
  {
   "cell_type": "code",
   "execution_count": 186,
   "id": "b44e359d-45f5-401e-86c4-44da56e48342",
   "metadata": {},
   "outputs": [
    {
     "data": {
      "text/plain": [
       "SparseTensor(indices=Tensor(\"SparseTensor/indices:0\", shape=(2, 2), dtype=int64), values=Tensor(\"SparseTensor/values:0\", shape=(2,), dtype=int32), dense_shape=Tensor(\"SparseTensor/dense_shape:0\", shape=(2,), dtype=int64))"
      ]
     },
     "execution_count": 186,
     "metadata": {},
     "output_type": "execute_result"
    }
   ],
   "source": [
    "st1 = tf.SparseTensor(indices=[[0,3], [2,4]], values=[10,20], dense_shape=[3,10])\n",
    "st1"
   ]
  },
  {
   "cell_type": "code",
   "execution_count": 188,
   "id": "ea5f79dd-a589-40d5-8e85-59ac0ff5d844",
   "metadata": {},
   "outputs": [
    {
     "name": "stdout",
     "output_type": "stream",
     "text": [
      "SparseTensor(indices=Tensor(\"SparseTensor/indices:0\", shape=(2, 2), dtype=int64), values=Tensor(\"SparseTensor/values:0\", shape=(2,), dtype=int32), dense_shape=Tensor(\"SparseTensor/dense_shape:0\", shape=(2,), dtype=int64))\n"
     ]
    }
   ],
   "source": [
    "print(st1)"
   ]
  },
  {
   "cell_type": "markdown",
   "id": "5346f595-379b-4c1c-90a1-5ceb6960fb77",
   "metadata": {},
   "source": [
    "### Create Sparse Tensor From Dense"
   ]
  },
  {
   "cell_type": "code",
   "execution_count": 191,
   "id": "6e149975-91d7-4204-8f5c-92bad6f14605",
   "metadata": {},
   "outputs": [],
   "source": [
    "import numpy as np"
   ]
  },
  {
   "cell_type": "code",
   "execution_count": 193,
   "id": "79bfcbc4-90de-4b63-8895-fc62aa18bab5",
   "metadata": {},
   "outputs": [
    {
     "data": {
      "text/plain": [
       "array([[1, 0, 0, 0],\n",
       "       [0, 0, 0, 0],\n",
       "       [0, 0, 2, 0],\n",
       "       [0, 0, 0, 4]])"
      ]
     },
     "execution_count": 193,
     "metadata": {},
     "output_type": "execute_result"
    }
   ],
   "source": [
    "np_array = np.array([[1,0,0,0],\n",
    "                     [0,0,0,0],\n",
    "                     [0,0,2,0],\n",
    "                     [0,0,0,4]])\n",
    "np_array"
   ]
  },
  {
   "cell_type": "code",
   "execution_count": 195,
   "id": "19dcaaf5-b49a-4299-9cc1-3316759cf118",
   "metadata": {},
   "outputs": [
    {
     "name": "stdout",
     "output_type": "stream",
     "text": [
      "SparseTensor(indices=Tensor(\"dense_to_sparse/Where:0\", shape=(None, 2), dtype=int64), values=Tensor(\"dense_to_sparse/GatherNd:0\", shape=(None,), dtype=int64), dense_shape=Tensor(\"dense_to_sparse/Shape:0\", shape=(2,), dtype=int64))\n"
     ]
    }
   ],
   "source": [
    "st2_fd = tf.sparse.from_dense(np_array)\n",
    "print(st2_fd )"
   ]
  },
  {
   "cell_type": "markdown",
   "id": "125c94d9-4f97-4276-9564-7d8e5db96367",
   "metadata": {},
   "source": [
    "### Extract the values, indices & shape of Sparse Tensor"
   ]
  },
  {
   "cell_type": "code",
   "execution_count": 198,
   "id": "9d0e69eb-b990-4cb3-8bf5-5495eb0892b0",
   "metadata": {},
   "outputs": [
    {
     "data": {
      "text/plain": [
       "<tf.Tensor 'dense_to_sparse/GatherNd:0' shape=(None,) dtype=int64>"
      ]
     },
     "execution_count": 198,
     "metadata": {},
     "output_type": "execute_result"
    }
   ],
   "source": [
    "st2_fd.values"
   ]
  },
  {
   "cell_type": "code",
   "execution_count": 200,
   "id": "3d2ba7d3-582f-4428-a212-3200c7bb60ea",
   "metadata": {},
   "outputs": [
    {
     "data": {
      "text/plain": [
       "<tf.Tensor 'dense_to_sparse/Where:0' shape=(None, 2) dtype=int64>"
      ]
     },
     "execution_count": 200,
     "metadata": {},
     "output_type": "execute_result"
    }
   ],
   "source": [
    "st2_fd.indices"
   ]
  },
  {
   "cell_type": "markdown",
   "id": "ff18bc3e-b712-4733-90ac-f5259935b79f",
   "metadata": {},
   "source": [
    "# How to create Tensor with every elements are one in TensorFlow"
   ]
  },
  {
   "cell_type": "code",
   "execution_count": 203,
   "id": "b9b55bfe-74a9-43c3-9afa-40746f9dbf25",
   "metadata": {},
   "outputs": [],
   "source": [
    "import tensorflow as tf"
   ]
  },
  {
   "cell_type": "markdown",
   "id": "d9566086-385a-4bba-aee4-d4992ce1aea6",
   "metadata": {},
   "source": [
    "### tf.ones()"
   ]
  },
  {
   "cell_type": "markdown",
   "id": "69da6c4b-cc9c-4d98-8e12-a2b1c1a5add1",
   "metadata": {},
   "source": [
    "#### Creates a tensor with all elements set to one (1)."
   ]
  },
  {
   "cell_type": "code",
   "execution_count": 207,
   "id": "e460e05e-a529-4952-b9b3-8da9b8cddbbf",
   "metadata": {},
   "outputs": [
    {
     "data": {
      "text/plain": [
       "<tf.Tensor 'ones:0' shape=(2, 2) dtype=float32>"
      ]
     },
     "execution_count": 207,
     "metadata": {},
     "output_type": "execute_result"
    }
   ],
   "source": [
    "ones_2dt = tf.ones((2,2),tf.float32)\n",
    "ones_2dt"
   ]
  },
  {
   "cell_type": "code",
   "execution_count": 209,
   "id": "5eede747-0713-4267-81a4-9e4110c2f0db",
   "metadata": {},
   "outputs": [
    {
     "data": {
      "text/plain": [
       "<tf.Tensor 'ones_1:0' shape=(2, 2, 4) dtype=float32>"
      ]
     },
     "execution_count": 209,
     "metadata": {},
     "output_type": "execute_result"
    }
   ],
   "source": [
    "ones_3dt = tf.ones((2,2,4),tf.float32)\n",
    "ones_3dt"
   ]
  },
  {
   "cell_type": "markdown",
   "id": "177e4656-f53e-40bc-9d57-4d0e225f331e",
   "metadata": {},
   "source": [
    "# tf.ones_like()"
   ]
  },
  {
   "cell_type": "markdown",
   "id": "df0f7074-f94e-4a14-bd54-9fbaa4932787",
   "metadata": {},
   "source": [
    "### Creates a tensor of all ones that has the same shape as the input"
   ]
  },
  {
   "cell_type": "code",
   "execution_count": 213,
   "id": "0ea93088-976e-464f-b54c-41b5a8824cc0",
   "metadata": {},
   "outputs": [
    {
     "data": {
      "text/plain": [
       "<tf.Tensor 'Const:0' shape=(2, 3) dtype=int32>"
      ]
     },
     "execution_count": 213,
     "metadata": {},
     "output_type": "execute_result"
    }
   ],
   "source": [
    "ones_2dt = tf.constant([[1,2,3],[4,5,6]])\n",
    "ones_2dt"
   ]
  },
  {
   "cell_type": "code",
   "execution_count": 215,
   "id": "058d8228-dfb1-4495-96a1-53e381ce483e",
   "metadata": {},
   "outputs": [
    {
     "data": {
      "text/plain": [
       "<tf.Tensor 'ones_like:0' shape=(2, 3) dtype=float32>"
      ]
     },
     "execution_count": 215,
     "metadata": {},
     "output_type": "execute_result"
    }
   ],
   "source": [
    "ones_2dt_from_cont = tf.ones_like(ones_2dt,tf.float32)\n",
    "ones_2dt_from_cont"
   ]
  },
  {
   "cell_type": "code",
   "execution_count": 217,
   "id": "c7b5d8c2-56a0-4949-b9ce-4e84d39903ab",
   "metadata": {},
   "outputs": [
    {
     "data": {
      "text/plain": [
       "<tf.Variable 'Variable:0' shape=(2, 3) dtype=int32>"
      ]
     },
     "execution_count": 217,
     "metadata": {},
     "output_type": "execute_result"
    }
   ],
   "source": [
    "var_2dt_from_var = tf.Variable([[1,2,3],[4,5,6]])\n",
    "var_2dt_from_var"
   ]
  },
  {
   "cell_type": "code",
   "execution_count": 219,
   "id": "1bbed9cc-3f15-4d6d-b8d6-83ecb1bdad19",
   "metadata": {},
   "outputs": [
    {
     "data": {
      "text/plain": [
       "<tf.Tensor 'ones_like_1:0' shape=(2, 3) dtype=int32>"
      ]
     },
     "execution_count": 219,
     "metadata": {},
     "output_type": "execute_result"
    }
   ],
   "source": [
    "ones_2dt_from_var = tf.ones_like(var_2dt_from_var, tf.int32)\n",
    "ones_2dt_from_var"
   ]
  },
  {
   "cell_type": "markdown",
   "id": "7d1ac997-2354-4726-b725-a1a4c4a46a0e",
   "metadata": {},
   "source": [
    "# tf.ones_initializer()"
   ]
  },
  {
   "cell_type": "markdown",
   "id": "7643c306-07f8-48d4-9f83-6ae867a96a46",
   "metadata": {},
   "source": [
    "#### Initializer that generates tensors initialized to 1."
   ]
  },
  {
   "cell_type": "markdown",
   "id": "fbfde67a-a0dd-400c-a014-7f0ffe6adbe0",
   "metadata": {},
   "source": [
    "#### Initializers allow you to pre-specify an initialization strategy, encoded in the Initializer object, without knowing the shape and type of the variable being initialized."
   ]
  },
  {
   "cell_type": "code",
   "execution_count": 224,
   "id": "519d40d7-5f1e-4e71-9238-41bd01e844e3",
   "metadata": {},
   "outputs": [],
   "source": [
    "import tensorflow as tf"
   ]
  },
  {
   "cell_type": "code",
   "execution_count": 226,
   "id": "5ec62b1b-e58d-4239-b00f-3af48e233b2b",
   "metadata": {},
   "outputs": [],
   "source": [
    "def ones_variable(shape, dtype, initializer):\n",
    "    return tf.Variable(initializer (shape=shape, dtype=dtype))"
   ]
  },
  {
   "cell_type": "code",
   "execution_count": 228,
   "id": "01900e96-f629-462c-9df9-8647afc25186",
   "metadata": {},
   "outputs": [
    {
     "data": {
      "text/plain": [
       "<tf.Variable 'Variable_1:0' shape=(2, 2) dtype=float32>"
      ]
     },
     "execution_count": 228,
     "metadata": {},
     "output_type": "execute_result"
    }
   ],
   "source": [
    "ones_variable ((2,2), tf.float32, tf.ones_initializer())"
   ]
  },
  {
   "cell_type": "code",
   "execution_count": 230,
   "id": "0fc56044-0ae8-467a-a599-94f3b9b6d200",
   "metadata": {},
   "outputs": [
    {
     "data": {
      "text/plain": [
       "<tf.Variable 'Variable_2:0' shape=(2, 2, 5) dtype=int32>"
      ]
     },
     "execution_count": 230,
     "metadata": {},
     "output_type": "execute_result"
    }
   ],
   "source": [
    "ones_variable((2,2,5), tf.int32, tf.ones_initializer())"
   ]
  },
  {
   "cell_type": "markdown",
   "id": "dd1e8398-ace4-4537-b1ee-a3889003df74",
   "metadata": {},
   "source": [
    "# How to create Tensor with every elements are zeros in TensorFlow"
   ]
  },
  {
   "cell_type": "code",
   "execution_count": 233,
   "id": "eb5912e6-efcb-4084-a4c1-bb0aa217ce71",
   "metadata": {},
   "outputs": [],
   "source": [
    "import tensorflow as tf"
   ]
  },
  {
   "cell_type": "markdown",
   "id": "42753615-a436-4eb9-b996-cf68588cf418",
   "metadata": {},
   "source": [
    "# tf.zero()"
   ]
  },
  {
   "cell_type": "markdown",
   "id": "6cab0fb4-f4a0-4582-bd65-af54ce2500d8",
   "metadata": {},
   "source": [
    "### Creates a tensor with all elements set to zero."
   ]
  },
  {
   "cell_type": "code",
   "execution_count": 237,
   "id": "6150f3e5-557e-4afa-8601-5d1f088de991",
   "metadata": {},
   "outputs": [
    {
     "data": {
      "text/plain": [
       "<tf.Tensor 'zeros:0' shape=(2, 2) dtype=int32>"
      ]
     },
     "execution_count": 237,
     "metadata": {},
     "output_type": "execute_result"
    }
   ],
   "source": [
    "zeros_2dt = tf.zeros ((2,2), dtype=tf.int32)\n",
    "zeros_2dt"
   ]
  },
  {
   "cell_type": "code",
   "execution_count": 239,
   "id": "d1cc407c-df4d-4dc4-bc9f-ee9980bee0fd",
   "metadata": {},
   "outputs": [
    {
     "data": {
      "text/plain": [
       "<tf.Tensor 'zeros_1:0' shape=(2, 2, 4) dtype=int8>"
      ]
     },
     "execution_count": 239,
     "metadata": {},
     "output_type": "execute_result"
    }
   ],
   "source": [
    "zeros_3dt = tf.zeros ((2,2,4), dtype=tf.int8)\n",
    "zeros_3dt"
   ]
  },
  {
   "cell_type": "markdown",
   "id": "51934ad0-731e-41e5-b569-239d46bf0335",
   "metadata": {},
   "source": [
    "# tf.zeros_like()"
   ]
  },
  {
   "cell_type": "markdown",
   "id": "453e983b-8034-45bf-ada9-e03261f35d03",
   "metadata": {},
   "source": [
    "### Creates a tensor with all elements set to zero."
   ]
  },
  {
   "cell_type": "code",
   "execution_count": 243,
   "id": "3193e302-3ba9-41b1-b913-c1ff95526510",
   "metadata": {},
   "outputs": [
    {
     "data": {
      "text/plain": [
       "<tf.Tensor 'Const_1:0' shape=(2, 3) dtype=int32>"
      ]
     },
     "execution_count": 243,
     "metadata": {},
     "output_type": "execute_result"
    }
   ],
   "source": [
    "cont_2dt = tf.constant([[1,2,3],[4,5,6]])\n",
    "cont_2dt"
   ]
  },
  {
   "cell_type": "code",
   "execution_count": 245,
   "id": "90ff41d3-5c9d-433d-9af2-99c6985927b5",
   "metadata": {},
   "outputs": [
    {
     "data": {
      "text/plain": [
       "<tf.Tensor 'zeros_like:0' shape=(2, 3) dtype=int32>"
      ]
     },
     "execution_count": 245,
     "metadata": {},
     "output_type": "execute_result"
    }
   ],
   "source": [
    "z1_2dt_from_cont = tf.zeros_like(cont_2dt)\n",
    "z1_2dt_from_cont"
   ]
  },
  {
   "cell_type": "code",
   "execution_count": 247,
   "id": "78b1c8ac-75b2-449f-bc72-2f0a3df986f4",
   "metadata": {},
   "outputs": [
    {
     "data": {
      "text/plain": [
       "<tf.Variable 'Variable_3:0' shape=(2, 3) dtype=int32>"
      ]
     },
     "execution_count": 247,
     "metadata": {},
     "output_type": "execute_result"
    }
   ],
   "source": [
    "var_2dt = tf.Variable([[1,2,3], [4,5,6]])\n",
    "var_2dt"
   ]
  },
  {
   "cell_type": "code",
   "execution_count": 249,
   "id": "3361593f-1a8e-4148-abef-f1bbd7c35013",
   "metadata": {},
   "outputs": [
    {
     "data": {
      "text/plain": [
       "<tf.Tensor 'zeros_like_1:0' shape=(2, 3) dtype=bool>"
      ]
     },
     "execution_count": 249,
     "metadata": {},
     "output_type": "execute_result"
    }
   ],
   "source": [
    "z1_2dt_from_var = tf.zeros_like(var_2dt, dtype=tf.bool)\n",
    "z1_2dt_from_var"
   ]
  },
  {
   "cell_type": "markdown",
   "id": "4daaba80-5ff5-425b-a983-b213e3b8c21c",
   "metadata": {},
   "source": [
    "# tf.zeros_initializer()"
   ]
  },
  {
   "cell_type": "markdown",
   "id": "ae34eeaf-5661-4338-91d2-35a42b4a85b5",
   "metadata": {},
   "source": [
    "### Initializer that generates tensors initialized to 0."
   ]
  },
  {
   "cell_type": "markdown",
   "id": "7d3477e8-5212-4259-901c-e21c6c2412a4",
   "metadata": {},
   "source": [
    "### Initializers allow you to pre-specify an initialization strategy, encoded in the Initializer object, without knowing the shape and type of the variable being initialized."
   ]
  },
  {
   "cell_type": "code",
   "execution_count": 254,
   "id": "cb72b4cd-0a07-4956-83e9-99b4bac44743",
   "metadata": {},
   "outputs": [],
   "source": [
    "def zeros_variable(shape, dtype, initializer):\n",
    "    return tf. Variable (initializer (shape=shape, dtype=dtype))"
   ]
  },
  {
   "cell_type": "code",
   "execution_count": 256,
   "id": "d830d1f3-8897-4cad-9062-844e7d5cfc54",
   "metadata": {},
   "outputs": [
    {
     "data": {
      "text/plain": [
       "<tf.Variable 'Variable_4:0' shape=(2, 2) dtype=float32>"
      ]
     },
     "execution_count": 256,
     "metadata": {},
     "output_type": "execute_result"
    }
   ],
   "source": [
    "zi_t_var= zeros_variable ((2,2), tf.float32, tf.zeros_initializer())\n",
    "zi_t_var"
   ]
  },
  {
   "cell_type": "code",
   "execution_count": 258,
   "id": "f04674c3-b80c-4dab-9f75-a3a944602da5",
   "metadata": {},
   "outputs": [
    {
     "data": {
      "text/plain": [
       "<tf.Variable 'Variable_5:0' shape=(3, 2, 5) dtype=bool>"
      ]
     },
     "execution_count": 258,
     "metadata": {},
     "output_type": "execute_result"
    }
   ],
   "source": [
    "zeros_variable((3,2,5), tf.bool, tf. zeros_initializer())"
   ]
  },
  {
   "cell_type": "code",
   "execution_count": null,
   "id": "607afb28-c3a3-4c62-9b84-f64da7e20275",
   "metadata": {},
   "outputs": [],
   "source": []
  },
  {
   "cell_type": "code",
   "execution_count": null,
   "id": "2803c7b5-e1e7-4c7b-ac03-3d066637d0ba",
   "metadata": {},
   "outputs": [],
   "source": []
  },
  {
   "cell_type": "code",
   "execution_count": null,
   "id": "e64410b3-05f3-45a0-819a-ef3afe96c80e",
   "metadata": {},
   "outputs": [],
   "source": []
  },
  {
   "cell_type": "code",
   "execution_count": null,
   "id": "3d400ad0-14bf-4331-a97f-50386f0d8f25",
   "metadata": {},
   "outputs": [],
   "source": []
  },
  {
   "cell_type": "code",
   "execution_count": null,
   "id": "48a6476e-7620-4b2a-b476-e5f07d844b86",
   "metadata": {},
   "outputs": [],
   "source": []
  },
  {
   "cell_type": "code",
   "execution_count": null,
   "id": "02b0dfff-b95b-4e5c-9abb-498004f1f6eb",
   "metadata": {},
   "outputs": [],
   "source": []
  },
  {
   "cell_type": "code",
   "execution_count": null,
   "id": "d8df3aa1-e5a4-4a59-8c87-4a8ec84f5274",
   "metadata": {},
   "outputs": [],
   "source": []
  },
  {
   "cell_type": "code",
   "execution_count": null,
   "id": "69674b08-fae6-4cec-b221-8728758607ba",
   "metadata": {},
   "outputs": [],
   "source": []
  },
  {
   "cell_type": "code",
   "execution_count": null,
   "id": "6e96769a-23c4-4be8-9087-4a252ba0fe2d",
   "metadata": {},
   "outputs": [],
   "source": []
  }
 ],
 "metadata": {
  "kernelspec": {
   "display_name": "Python 3 (ipykernel)",
   "language": "python",
   "name": "python3"
  },
  "language_info": {
   "codemirror_mode": {
    "name": "ipython",
    "version": 3
   },
   "file_extension": ".py",
   "mimetype": "text/x-python",
   "name": "python",
   "nbconvert_exporter": "python",
   "pygments_lexer": "ipython3",
   "version": "3.12.2"
  }
 },
 "nbformat": 4,
 "nbformat_minor": 5
}
